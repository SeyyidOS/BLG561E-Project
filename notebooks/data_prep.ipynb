{
 "cells": [
  {
   "cell_type": "markdown",
   "metadata": {},
   "source": [
    "# 10 years 6 leagues json"
   ]
  },
  {
   "cell_type": "code",
   "execution_count": 1,
   "metadata": {},
   "outputs": [],
   "source": [
    "import pandas as pd"
   ]
  },
  {
   "cell_type": "code",
   "execution_count": 2,
   "metadata": {},
   "outputs": [],
   "source": [
    "import requests\n",
    "import time\n",
    "import json"
   ]
  },
  {
   "cell_type": "code",
   "execution_count": 3,
   "metadata": {},
   "outputs": [],
   "source": [
    "from tqdm import tqdm\n",
    "import requests\n",
    "import time\n"
   ]
  },
  {
   "cell_type": "code",
   "execution_count": 4,
   "metadata": {},
   "outputs": [],
   "source": [
    "def call_api(endpoint, params=None):\n",
    "    if params is None:\n",
    "        params = {}\n",
    "\n",
    "    base_url = 'https://v3.football.api-sports.io/'\n",
    "    url = f\"{base_url}{endpoint}\"\n",
    "    headers = {\n",
    "        'x-rapidapi-key': '52d7e411dc82fdcbbd5e857eb2a2a8b3',  \n",
    "    }\n",
    "\n",
    "    try:\n",
    "        response = requests.get(url, headers=headers, params=params)\n",
    "        response.raise_for_status()  \n",
    "        return response.json()  \n",
    "    except requests.RequestException as e:\n",
    "        print(f\"API request error: {e}\")\n",
    "        return None\n",
    "\n",
    "\n",
    "def players_data_dict(league, season, page=1, players_dict=None):\n",
    "    if players_dict is None:\n",
    "        players_dict = {}  \n",
    "\n",
    "    params = {\n",
    "        'league': league,\n",
    "        'season': season,\n",
    "        'page': page\n",
    "    }\n",
    "\n",
    "    players = call_api('players', params)\n",
    "\n",
    "    if players:\n",
    "        for player in players.get('response', []):\n",
    "            player_id = player['player']['id'] \n",
    "            player_name = player['player']['name'] \n",
    "\n",
    "            if player_id not in players_dict:\n",
    "                players_dict[player_id] = player_name  \n",
    "\n",
    "        paging = players.get('paging', {})\n",
    "        current_page = paging.get('current', 1)\n",
    "        total_pages = paging.get('total', 1)\n",
    "\n",
    "        if current_page < total_pages:\n",
    "            next_page = current_page + 1\n",
    "            if next_page % 2 == 1:\n",
    "                time.sleep(1) \n",
    "            return players_data_dict(league, season, next_page, players_dict)\n",
    "\n",
    "    return players_dict\n",
    "\n",
    "\n",
    "def fetch_players_for_leagues_and_seasons(leagues, seasons):\n",
    "    all_players_dict = {}  \n",
    "    for league in leagues:\n",
    "        for season in seasons:\n",
    "            print(f\"Fetching players for League {league}, Season {season}...\")\n",
    "            players_dict = players_data_dict(league, season, players_dict=all_players_dict)\n",
    "            all_players_dict.update(players_dict) \n",
    "    return all_players_dict\n",
    "\n"
   ]
  },
  {
   "cell_type": "code",
   "execution_count": 6,
   "metadata": {},
   "outputs": [
    {
     "name": "stdout",
     "output_type": "stream",
     "text": [
      "Fetching players for League 39, Season 2024...\n"
     ]
    },
    {
     "name": "stdout",
     "output_type": "stream",
     "text": [
      "Fetching players for League 140, Season 2024...\n",
      "Fetching players for League 78, Season 2024...\n",
      "Fetching players for League 135, Season 2024...\n",
      "Fetching players for League 61, Season 2024...\n",
      "Total unique players fetched: 3555\n"
     ]
    }
   ],
   "source": [
    "\n",
    "league_ids = [39, 140, 78, 135, 61]  \n",
    "seasons = [2024] \n",
    "\n",
    "all_players_data = fetch_players_for_leagues_and_seasons(league_ids, seasons)\n",
    "print(f\"Total unique players fetched: {len(all_players_data)}\")"
   ]
  },
  {
   "cell_type": "code",
   "execution_count": 7,
   "metadata": {},
   "outputs": [
    {
     "name": "stdout",
     "output_type": "stream",
     "text": [
      "JSON data saved to players_id_data.json\n"
     ]
    }
   ],
   "source": [
    "json_data = json.dumps(all_players_data, indent=4)  \n",
    "\n",
    "with open('players_id_data_5league_5year.json', 'w') as json_file:\n",
    "    json_file.write(json_data)\n",
    "\n",
    "print(\"JSON data saved to players_id_data.json\")"
   ]
  },
  {
   "cell_type": "markdown",
   "metadata": {},
   "source": [
    "# Image Çekme Kısmı"
   ]
  },
  {
   "cell_type": "code",
   "execution_count": 3,
   "metadata": {},
   "outputs": [
    {
     "name": "stderr",
     "output_type": "stream",
     "text": [
      "100%|██████████| 14726/14726 [49:18<00:00,  4.98it/s]  \n"
     ]
    }
   ],
   "source": [
    "\n",
    "import os\n",
    "import json\n",
    "import requests\n",
    "from tqdm import tqdm\n",
    "\n",
    "with open('players_id_data.json', 'r') as f:\n",
    "    players_data = json.load(f)  \n",
    "\n",
    "image_folder = \"data/images\"\n",
    "os.makedirs(image_folder, exist_ok=True) \n",
    "\n",
    "base_image_url = \"https://media.api-sports.io/football/players/\"\n",
    "\n",
    "for player_id in tqdm(players_data.keys()):\n",
    "    image_url = f\"{base_image_url}{player_id}.png\"\n",
    "    file_path = os.path.join(image_folder, f\"{player_id}.png\")\n",
    "\n",
    "    response = requests.get(image_url)\n",
    "\n",
    "    if response.status_code == 200:\n",
    "        with open(file_path, \"wb\") as file:\n",
    "            file.write(response.content)\n",
    "    else:\n",
    "        print(f\"Failed to download image for player ID {player_id}. Status code: {response.status_code}\")\n"
   ]
  },
  {
   "cell_type": "code",
   "execution_count": 5,
   "metadata": {},
   "outputs": [
    {
     "name": "stdout",
     "output_type": "stream",
     "text": [
      "Zipped folder saved at data/images.zip\n"
     ]
    }
   ],
   "source": [
    "import shutil\n",
    "\n",
    "folder_path = 'data/images'\n",
    "output_filename = 'data/images'\n",
    "\n",
    "shutil.make_archive(output_filename, 'zip', folder_path)\n",
    "\n",
    "print(f\"Zipped folder saved at {output_filename}.zip\")\n"
   ]
  },
  {
   "cell_type": "markdown",
   "metadata": {},
   "source": [
    "# Detailed Json Generation"
   ]
  },
  {
   "cell_type": "code",
   "execution_count": 9,
   "metadata": {},
   "outputs": [
    {
     "name": "stderr",
     "output_type": "stream",
     "text": [
      "100%|██████████| 3555/3555 [20:35<00:00,  2.88it/s]\n"
     ]
    }
   ],
   "source": [
    "import json\n",
    "\n",
    "import pandas as pd\n",
    "import requests\n",
    "from tqdm import tqdm\n",
    "from unidecode import unidecode\n",
    "import time\n",
    "\n",
    "\n",
    "REQUEST_DELAY = 1 / 30  # approximately 0.133 seconds\n",
    "\n",
    "api_key = '52d7e411dc82fdcbbd5e857eb2a2a8b3'\n",
    "\n",
    "base_url = \"https://v3.football.api-sports.io\"\n",
    "headers = {\n",
    "    \"x-apisports-key\": api_key\n",
    "}\n",
    "\n",
    "\n",
    "players_data = {}\n",
    "\n",
    "\n",
    "for player_id in tqdm(all_players_data.keys()):\n",
    "    \n",
    "    url = f\"{base_url}/players/profiles?player={player_id}\"\n",
    "    response = requests.get(url, headers=headers)\n",
    "    time.sleep(REQUEST_DELAY)  # Wait for the necessary time\n",
    "\n",
    "    if response.status_code != 200:\n",
    "        print(f\"Error: Unable to fetch player data on id {player_id}. Status Code: {response.status_code}\")\n",
    "        continue\n",
    "\n",
    "    player_info = response.json().get('response', [])[0][\"player\"]\n",
    "\n",
    "    url = f\"{base_url}/players/teams?player={player_id}\"\n",
    "    response = requests.get(url, headers=headers)\n",
    "    time.sleep(REQUEST_DELAY)  # Wait for the necessary time\n",
    "\n",
    "    if response.status_code != 200:\n",
    "        print(f\"Error: Unable to fetch player data on id {player_id}. Status Code: {response.status_code}\")\n",
    "        continue\n",
    "\n",
    "    seasons = response.json().get('response', [])\n",
    "\n",
    "    seasons_data = {}\n",
    "    for team in seasons:\n",
    "        seasons_data[team[\"team\"][\"name\"]] = {\"seasons\": team[\"seasons\"],\n",
    "                                                \"team_id\": team[\"team\"][\"id\"]\n",
    "                                                }\n",
    "    players_data[player_id] = {\n",
    "        \"player_info\": player_info,\n",
    "        \"seasons_data\": seasons_data\n",
    "    }\n",
    "\n",
    "with open(\"data/players_detailed_5league_5year.json\", \"w\") as outfile:\n",
    "    json.dump(players_data, outfile)"
   ]
  },
  {
   "cell_type": "markdown",
   "metadata": {},
   "source": [
    "# Takım isimleri ve id lerinden o takımın club nation league bilgisi çıkarma"
   ]
  },
  {
   "cell_type": "code",
   "execution_count": null,
   "metadata": {},
   "outputs": [],
   "source": [
    "df = pd.read_csv(\"data/team_id_to_name.csv\")"
   ]
  },
  {
   "cell_type": "code",
   "execution_count": null,
   "metadata": {},
   "outputs": [],
   "source": [
    "REQUEST_DELAY = 1 / 7.5  # approximately 0.133 seconds\n",
    "\n",
    "api_key = '52d7e411dc82fdcbbd5e857eb2a2a8b3'\n",
    "\n",
    "base_url = \"https://v3.football.api-sports.io\"\n",
    "headers = {\n",
    "    \"x-apisports-key\": api_key\n",
    "}"
   ]
  },
  {
   "cell_type": "code",
   "execution_count": null,
   "metadata": {},
   "outputs": [],
   "source": [
    "\n",
    "nation = []\n",
    "league = []\n",
    "\n",
    "for id in tqdm(df[\"team_id\"]):\n",
    "    url = f\"{base_url}/teams?id={id}\"\n",
    "    response = requests.get(url, headers=headers)\n",
    "    time.sleep(REQUEST_DELAY)  # Wait for the necessary time\n",
    "\n",
    "    if response.status_code != 200:\n",
    "        print(f\"Error: Unable to fetch player data on page. Status Code: {response.status_code}\")\n",
    "\n",
    "    team_info = response.json().get('response', [])[0][\"team\"]\n",
    "\n",
    "    nation.append(str(team_info[\"national\"]))\n",
    "    league.append(team_info[\"country\"])"
   ]
  },
  {
   "cell_type": "code",
   "execution_count": null,
   "metadata": {},
   "outputs": [],
   "source": [
    "df[\"nation\"] = nation\n",
    "df[\"league\"] = league\n"
   ]
  },
  {
   "cell_type": "code",
   "execution_count": null,
   "metadata": {},
   "outputs": [],
   "source": [
    "df.head()"
   ]
  },
  {
   "cell_type": "code",
   "execution_count": null,
   "metadata": {},
   "outputs": [],
   "source": [
    "# Check columns with any None or NaN values\n",
    "columns_with_na = df.columns[df.isnull().any()].tolist()\n",
    "print(\"Columns with None/NaN values:\", columns_with_na)\n"
   ]
  },
  {
   "cell_type": "code",
   "execution_count": null,
   "metadata": {},
   "outputs": [],
   "source": [
    "missing_values = df[df.isnull().any(axis=1)]\n",
    "print(\"Rows with missing values:\")\n",
    "print(missing_values)\n"
   ]
  },
  {
   "cell_type": "code",
   "execution_count": null,
   "metadata": {},
   "outputs": [],
   "source": [
    "# Save DataFrame as CSV\n",
    "df.to_csv(\"club_league.csv\", index=False)\n"
   ]
  }
 ],
 "metadata": {
  "language_info": {
   "name": "python"
  }
 },
 "nbformat": 4,
 "nbformat_minor": 2
}
